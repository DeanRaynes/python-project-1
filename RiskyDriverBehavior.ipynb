{
 "cells": [
  {
   "cell_type": "code",
   "execution_count": 1,
   "id": "97594a86-331e-4923-a016-5de1a0393d05",
   "metadata": {},
   "outputs": [
    {
     "name": "stderr",
     "output_type": "stream",
     "text": [
      "C:\\Users\\ampma_qzhjfkx\\AppData\\Local\\Temp\\ipykernel_13076\\1981325986.py:10: DtypeWarning: Columns (72,73,74,75,82,83,85,89,90,94) have mixed types. Specify dtype option on import or set low_memory=False.\n",
      "  person_df = pd.read_csv(person_csv)\n",
      "C:\\Users\\ampma_qzhjfkx\\AppData\\Local\\Temp\\ipykernel_13076\\1981325986.py:11: DtypeWarning: Columns (102,103,104,107,108,109,110,117,118,120,125,126,129) have mixed types. Specify dtype option on import or set low_memory=False.\n",
      "  vehicle_df = pd.read_csv(vehicle_csv)\n"
     ]
    }
   ],
   "source": [
    "import pandas as pd\n",
    "import numpy as np\n",
    "import matplotlib.pyplot as plt\n",
    "\n",
    "accident_csv = \"./accident.csv\"\n",
    "person_csv = \"./person.csv\"\n",
    "vehicle_csv = \"./vehicle.csv\"\n",
    "\n",
    "accident_df = pd.read_csv(accident_csv)\n",
    "person_df = pd.read_csv(person_csv)\n",
    "vehicle_df = pd.read_csv(vehicle_csv)"
   ]
  },
  {
   "cell_type": "code",
   "execution_count": 2,
   "id": "38e53ea9-9ff0-4020-9503-b769f5ab1e9e",
   "metadata": {},
   "outputs": [
    {
     "data": {
      "text/plain": [
       "weather_lit\n",
       "Clear                1305\n",
       "Unknown               221\n",
       "Cloudy                167\n",
       "Not Reported          120\n",
       "Rain                   40\n",
       "Snow                    3\n",
       "Blowing Snow            1\n",
       "Sleet or Hail           1\n",
       "Severe Crosswinds       1\n",
       "Other                   1\n",
       "Name: count, dtype: int64"
      ]
     },
     "execution_count": 2,
     "metadata": {},
     "output_type": "execute_result"
    }
   ],
   "source": [
    "accident_df[\"weather_lit\"].value_counts()"
   ]
  },
  {
   "cell_type": "code",
   "execution_count": 3,
   "id": "ac2fbc22-41f0-4a83-ae77-5935f75e9fb1",
   "metadata": {},
   "outputs": [
    {
     "data": {
      "text/plain": [
       "lgt_cond_lit\n",
       "Daylight                   815\n",
       "Dark - Not Lighted         336\n",
       "Dark - Lighted             335\n",
       "Unknown                    130\n",
       "Dark - Unknown Lighting    128\n",
       "Dusk                        64\n",
       "Dawn                        46\n",
       "Not Reported                 6\n",
       "Name: count, dtype: int64"
      ]
     },
     "execution_count": 3,
     "metadata": {},
     "output_type": "execute_result"
    }
   ],
   "source": [
    "accident_df[\"lgt_cond_lit\"].value_counts()"
   ]
  },
  {
   "cell_type": "code",
   "execution_count": 4,
   "id": "4367b9bf-aa69-4b31-9ae0-e2c025b81877",
   "metadata": {},
   "outputs": [
    {
     "data": {
      "text/plain": [
       "a_tod_lit\n",
       "Nighttime    889\n",
       "Daytime      872\n",
       "Unknown       99\n",
       "Name: count, dtype: int64"
      ]
     },
     "execution_count": 4,
     "metadata": {},
     "output_type": "execute_result"
    }
   ],
   "source": [
    "accident_df[\"a_tod_lit\"].value_counts()"
   ]
  },
  {
   "cell_type": "code",
   "execution_count": 5,
   "id": "8b379ecc-6a72-4780-828d-3dcd48e293a4",
   "metadata": {},
   "outputs": [
    {
     "data": {
      "text/plain": [
       "a_spcra_lit\n",
       "Other Crash                1223\n",
       "Speeding Involved Crash     637\n",
       "Name: count, dtype: int64"
      ]
     },
     "execution_count": 5,
     "metadata": {},
     "output_type": "execute_result"
    }
   ],
   "source": [
    "accident_df[\"a_spcra_lit\"].value_counts()"
   ]
  },
  {
   "cell_type": "code",
   "execution_count": 6,
   "id": "96658cb3-7fdc-4512-9245-2edb009d3f4b",
   "metadata": {},
   "outputs": [
    {
     "data": {
      "text/plain": [
       "a_ped_lit\n",
       "Other Crash                  1510\n",
       "Pedestrian Involved Crash     350\n",
       "Name: count, dtype: int64"
      ]
     },
     "execution_count": 6,
     "metadata": {},
     "output_type": "execute_result"
    }
   ],
   "source": [
    "accident_df[\"a_ped_lit\"].value_counts()"
   ]
  },
  {
   "cell_type": "code",
   "execution_count": 7,
   "id": "28e3d9d1-0b84-434b-84cc-65a5fc25ae6c",
   "metadata": {},
   "outputs": [
    {
     "data": {
      "text/plain": [
       "a_posbac_lit\n",
       "Unknown BAC Crash                          878\n",
       "All Drivers With ZERO BAC Testing Crash    517\n",
       "Driver With Positive BAC Testing Crash     465\n",
       "Name: count, dtype: int64"
      ]
     },
     "execution_count": 7,
     "metadata": {},
     "output_type": "execute_result"
    }
   ],
   "source": [
    "accident_df[\"a_posbac_lit\"].value_counts()"
   ]
  },
  {
   "cell_type": "code",
   "execution_count": 8,
   "id": "ac263e02-0a3d-4f85-b589-316a7ea3bcee",
   "metadata": {},
   "outputs": [
    {
     "data": {
      "text/plain": [
       "a_dist_lit\n",
       "Other Crash                      1698\n",
       "Involving a Distracted Driver     162\n",
       "Name: count, dtype: int64"
      ]
     },
     "execution_count": 8,
     "metadata": {},
     "output_type": "execute_result"
    }
   ],
   "source": [
    "accident_df[\"a_dist_lit\"].value_counts()"
   ]
  },
  {
   "cell_type": "code",
   "execution_count": 9,
   "id": "04acf19f-14dc-4ee5-a9db-e9cf300f0977",
   "metadata": {},
   "outputs": [
    {
     "data": {
      "text/plain": [
       "HOUR\n",
       "18    140\n",
       "20    136\n",
       "17    113\n",
       "19    108\n",
       "16    103\n",
       "99     99\n",
       "15     91\n",
       "21     80\n",
       "11     79\n",
       "22     73\n",
       "13     73\n",
       "6      70\n",
       "23     69\n",
       "12     63\n",
       "14     63\n",
       "7      63\n",
       "5      62\n",
       "0      54\n",
       "9      52\n",
       "10     51\n",
       "2      51\n",
       "8      51\n",
       "1      48\n",
       "3      38\n",
       "4      30\n",
       "Name: count, dtype: int64"
      ]
     },
     "execution_count": 9,
     "metadata": {},
     "output_type": "execute_result"
    }
   ],
   "source": [
    "accident_df[\"HOUR\"].value_counts()"
   ]
  },
  {
   "cell_type": "code",
   "execution_count": 10,
   "id": "49e6625f-89e1-4068-821e-47c47f14b715",
   "metadata": {},
   "outputs": [
    {
     "data": {
      "text/plain": [
       "TWAY_ID\n",
       "US-191                        48\n",
       "UNKNOWN RD                    36\n",
       "SR-87                         33\n",
       "MCDOWELL RD                   33\n",
       "SR-264                        29\n",
       "                              ..\n",
       "CAMINO DE OESTE                1\n",
       "OUTER LOOP RD                  1\n",
       "COUNTY 15TH ST                 1\n",
       "LENZER AVE                     1\n",
       "INDIAN ROUTE 121- ASPEN RD     1\n",
       "Name: count, Length: 881, dtype: int64"
      ]
     },
     "execution_count": 10,
     "metadata": {},
     "output_type": "execute_result"
    }
   ],
   "source": [
    "accident_df[\"TWAY_ID\"].value_counts()"
   ]
  },
  {
   "cell_type": "code",
   "execution_count": 11,
   "id": "cb7b57f7-b04e-4a6e-b696-480fcb376060",
   "metadata": {},
   "outputs": [
    {
     "data": {
      "text/plain": [
       "a_dow_lit\n",
       "Weekday    1001\n",
       "Weekend     833\n",
       "Unknown      26\n",
       "Name: count, dtype: int64"
      ]
     },
     "execution_count": 11,
     "metadata": {},
     "output_type": "execute_result"
    }
   ],
   "source": [
    "accident_df[\"a_dow_lit\"].value_counts()"
   ]
  },
  {
   "cell_type": "code",
   "execution_count": 12,
   "id": "b15ff82d-69ec-4f3a-9cec-3c622aaaca93",
   "metadata": {},
   "outputs": [
    {
     "data": {
      "text/plain": [
       "a_spcra_lit\n",
       "Other Crash                1223\n",
       "Speeding Involved Crash     637\n",
       "Name: count, dtype: int64"
      ]
     },
     "execution_count": 12,
     "metadata": {},
     "output_type": "execute_result"
    }
   ],
   "source": [
    "accident_df[\"a_spcra_lit\"].value_counts()"
   ]
  },
  {
   "cell_type": "code",
   "execution_count": 13,
   "id": "821aeac8-397c-4d9a-ace9-d75ff774a15b",
   "metadata": {},
   "outputs": [
    {
     "data": {
      "text/html": [
       "<div>\n",
       "<style scoped>\n",
       "    .dataframe tbody tr th:only-of-type {\n",
       "        vertical-align: middle;\n",
       "    }\n",
       "\n",
       "    .dataframe tbody tr th {\n",
       "        vertical-align: top;\n",
       "    }\n",
       "\n",
       "    .dataframe thead th {\n",
       "        text-align: right;\n",
       "    }\n",
       "</style>\n",
       "<table border=\"1\" class=\"dataframe\">\n",
       "  <thead>\n",
       "    <tr style=\"text-align: right;\">\n",
       "      <th></th>\n",
       "      <th>index</th>\n",
       "      <th>accident_id</th>\n",
       "      <th>ST_CASE</th>\n",
       "      <th>VE_TOTAL</th>\n",
       "      <th>VE_FORMS</th>\n",
       "      <th>PEDS</th>\n",
       "      <th>PERSONS</th>\n",
       "      <th>COUNTY</th>\n",
       "      <th>county_name</th>\n",
       "      <th>CITY</th>\n",
       "      <th>...</th>\n",
       "      <th>A_POLPUR</th>\n",
       "      <th>a_polour_lit</th>\n",
       "      <th>A_POSBAC</th>\n",
       "      <th>a_posbac_lit</th>\n",
       "      <th>A_DIST</th>\n",
       "      <th>a_dist_lit</th>\n",
       "      <th>A_DROWSY</th>\n",
       "      <th>a_drowsy_lit</th>\n",
       "      <th>INDIAN_RES</th>\n",
       "      <th>indian_res_lit</th>\n",
       "    </tr>\n",
       "  </thead>\n",
       "  <tbody>\n",
       "    <tr>\n",
       "      <th>0</th>\n",
       "      <td>0</td>\n",
       "      <td>2012040001</td>\n",
       "      <td>40001</td>\n",
       "      <td>1</td>\n",
       "      <td>1</td>\n",
       "      <td>0</td>\n",
       "      <td>1</td>\n",
       "      <td>19</td>\n",
       "      <td>PIMA</td>\n",
       "      <td>0</td>\n",
       "      <td>...</td>\n",
       "      <td>2</td>\n",
       "      <td>Other Crash</td>\n",
       "      <td>1</td>\n",
       "      <td>Driver With Positive BAC Testing Crash</td>\n",
       "      <td>2</td>\n",
       "      <td>Other Crash</td>\n",
       "      <td>2</td>\n",
       "      <td>Other Crash</td>\n",
       "      <td>0</td>\n",
       "      <td>Not Tribal Lands</td>\n",
       "    </tr>\n",
       "    <tr>\n",
       "      <th>1</th>\n",
       "      <td>1</td>\n",
       "      <td>2012040002</td>\n",
       "      <td>40002</td>\n",
       "      <td>1</td>\n",
       "      <td>1</td>\n",
       "      <td>0</td>\n",
       "      <td>2</td>\n",
       "      <td>25</td>\n",
       "      <td>YAVAPAI</td>\n",
       "      <td>90</td>\n",
       "      <td>...</td>\n",
       "      <td>2</td>\n",
       "      <td>Other Crash</td>\n",
       "      <td>1</td>\n",
       "      <td>Driver With Positive BAC Testing Crash</td>\n",
       "      <td>2</td>\n",
       "      <td>Other Crash</td>\n",
       "      <td>2</td>\n",
       "      <td>Other Crash</td>\n",
       "      <td>0</td>\n",
       "      <td>Not Tribal Lands</td>\n",
       "    </tr>\n",
       "    <tr>\n",
       "      <th>2</th>\n",
       "      <td>2</td>\n",
       "      <td>2012040003</td>\n",
       "      <td>40003</td>\n",
       "      <td>1</td>\n",
       "      <td>1</td>\n",
       "      <td>1</td>\n",
       "      <td>0</td>\n",
       "      <td>13</td>\n",
       "      <td>MARICOPA</td>\n",
       "      <td>370</td>\n",
       "      <td>...</td>\n",
       "      <td>2</td>\n",
       "      <td>Other Crash</td>\n",
       "      <td>2</td>\n",
       "      <td>All Drivers With ZERO BAC Testing Crash</td>\n",
       "      <td>2</td>\n",
       "      <td>Other Crash</td>\n",
       "      <td>2</td>\n",
       "      <td>Other Crash</td>\n",
       "      <td>0</td>\n",
       "      <td>Not Tribal Lands</td>\n",
       "    </tr>\n",
       "    <tr>\n",
       "      <th>3</th>\n",
       "      <td>3</td>\n",
       "      <td>2012040004</td>\n",
       "      <td>40004</td>\n",
       "      <td>2</td>\n",
       "      <td>2</td>\n",
       "      <td>0</td>\n",
       "      <td>2</td>\n",
       "      <td>13</td>\n",
       "      <td>MARICOPA</td>\n",
       "      <td>190</td>\n",
       "      <td>...</td>\n",
       "      <td>2</td>\n",
       "      <td>Other Crash</td>\n",
       "      <td>2</td>\n",
       "      <td>All Drivers With ZERO BAC Testing Crash</td>\n",
       "      <td>2</td>\n",
       "      <td>Other Crash</td>\n",
       "      <td>2</td>\n",
       "      <td>Other Crash</td>\n",
       "      <td>0</td>\n",
       "      <td>Not Tribal Lands</td>\n",
       "    </tr>\n",
       "    <tr>\n",
       "      <th>4</th>\n",
       "      <td>4</td>\n",
       "      <td>2012040005</td>\n",
       "      <td>40005</td>\n",
       "      <td>2</td>\n",
       "      <td>2</td>\n",
       "      <td>0</td>\n",
       "      <td>4</td>\n",
       "      <td>19</td>\n",
       "      <td>PIMA</td>\n",
       "      <td>530</td>\n",
       "      <td>...</td>\n",
       "      <td>2</td>\n",
       "      <td>Other Crash</td>\n",
       "      <td>3</td>\n",
       "      <td>Unknown BAC Crash</td>\n",
       "      <td>2</td>\n",
       "      <td>Other Crash</td>\n",
       "      <td>2</td>\n",
       "      <td>Other Crash</td>\n",
       "      <td>0</td>\n",
       "      <td>Not Tribal Lands</td>\n",
       "    </tr>\n",
       "    <tr>\n",
       "      <th>...</th>\n",
       "      <td>...</td>\n",
       "      <td>...</td>\n",
       "      <td>...</td>\n",
       "      <td>...</td>\n",
       "      <td>...</td>\n",
       "      <td>...</td>\n",
       "      <td>...</td>\n",
       "      <td>...</td>\n",
       "      <td>...</td>\n",
       "      <td>...</td>\n",
       "      <td>...</td>\n",
       "      <td>...</td>\n",
       "      <td>...</td>\n",
       "      <td>...</td>\n",
       "      <td>...</td>\n",
       "      <td>...</td>\n",
       "      <td>...</td>\n",
       "      <td>...</td>\n",
       "      <td>...</td>\n",
       "      <td>...</td>\n",
       "      <td>...</td>\n",
       "    </tr>\n",
       "    <tr>\n",
       "      <th>1855</th>\n",
       "      <td>1855</td>\n",
       "      <td>2016040872</td>\n",
       "      <td>40872</td>\n",
       "      <td>1</td>\n",
       "      <td>1</td>\n",
       "      <td>0</td>\n",
       "      <td>1</td>\n",
       "      <td>13</td>\n",
       "      <td>MARICOPA</td>\n",
       "      <td>0</td>\n",
       "      <td>...</td>\n",
       "      <td>2</td>\n",
       "      <td>Other Crash</td>\n",
       "      <td>2</td>\n",
       "      <td>All Drivers With ZERO BAC Testing Crash</td>\n",
       "      <td>2</td>\n",
       "      <td>Other Crash</td>\n",
       "      <td>2</td>\n",
       "      <td>Other Crash</td>\n",
       "      <td>0</td>\n",
       "      <td>Not Tribal Lands</td>\n",
       "    </tr>\n",
       "    <tr>\n",
       "      <th>1856</th>\n",
       "      <td>1856</td>\n",
       "      <td>2016040875</td>\n",
       "      <td>40875</td>\n",
       "      <td>1</td>\n",
       "      <td>1</td>\n",
       "      <td>0</td>\n",
       "      <td>2</td>\n",
       "      <td>17</td>\n",
       "      <td>NAVAJO</td>\n",
       "      <td>0</td>\n",
       "      <td>...</td>\n",
       "      <td>2</td>\n",
       "      <td>Other Crash</td>\n",
       "      <td>2</td>\n",
       "      <td>All Drivers With ZERO BAC Testing Crash</td>\n",
       "      <td>2</td>\n",
       "      <td>Other Crash</td>\n",
       "      <td>2</td>\n",
       "      <td>Other Crash</td>\n",
       "      <td>1</td>\n",
       "      <td>Tribal Lands</td>\n",
       "    </tr>\n",
       "    <tr>\n",
       "      <th>1857</th>\n",
       "      <td>1857</td>\n",
       "      <td>2016040876</td>\n",
       "      <td>40876</td>\n",
       "      <td>1</td>\n",
       "      <td>1</td>\n",
       "      <td>1</td>\n",
       "      <td>1</td>\n",
       "      <td>13</td>\n",
       "      <td>MARICOPA</td>\n",
       "      <td>370</td>\n",
       "      <td>...</td>\n",
       "      <td>2</td>\n",
       "      <td>Other Crash</td>\n",
       "      <td>3</td>\n",
       "      <td>Unknown BAC Crash</td>\n",
       "      <td>2</td>\n",
       "      <td>Other Crash</td>\n",
       "      <td>2</td>\n",
       "      <td>Other Crash</td>\n",
       "      <td>0</td>\n",
       "      <td>Not Tribal Lands</td>\n",
       "    </tr>\n",
       "    <tr>\n",
       "      <th>1858</th>\n",
       "      <td>1858</td>\n",
       "      <td>2016040877</td>\n",
       "      <td>40877</td>\n",
       "      <td>2</td>\n",
       "      <td>2</td>\n",
       "      <td>0</td>\n",
       "      <td>3</td>\n",
       "      <td>13</td>\n",
       "      <td>MARICOPA</td>\n",
       "      <td>200</td>\n",
       "      <td>...</td>\n",
       "      <td>2</td>\n",
       "      <td>Other Crash</td>\n",
       "      <td>3</td>\n",
       "      <td>Unknown BAC Crash</td>\n",
       "      <td>2</td>\n",
       "      <td>Other Crash</td>\n",
       "      <td>2</td>\n",
       "      <td>Other Crash</td>\n",
       "      <td>0</td>\n",
       "      <td>Not Tribal Lands</td>\n",
       "    </tr>\n",
       "    <tr>\n",
       "      <th>1859</th>\n",
       "      <td>1859</td>\n",
       "      <td>2016040880</td>\n",
       "      <td>40880</td>\n",
       "      <td>1</td>\n",
       "      <td>1</td>\n",
       "      <td>0</td>\n",
       "      <td>1</td>\n",
       "      <td>21</td>\n",
       "      <td>PINAL</td>\n",
       "      <td>0</td>\n",
       "      <td>...</td>\n",
       "      <td>2</td>\n",
       "      <td>Other Crash</td>\n",
       "      <td>1</td>\n",
       "      <td>Driver With Positive BAC Testing Crash</td>\n",
       "      <td>2</td>\n",
       "      <td>Other Crash</td>\n",
       "      <td>2</td>\n",
       "      <td>Other Crash</td>\n",
       "      <td>1</td>\n",
       "      <td>Tribal Lands</td>\n",
       "    </tr>\n",
       "  </tbody>\n",
       "</table>\n",
       "<p>1860 rows × 80 columns</p>\n",
       "</div>"
      ],
      "text/plain": [
       "      index  accident_id  ST_CASE  VE_TOTAL  VE_FORMS  PEDS  PERSONS  COUNTY  \\\n",
       "0         0   2012040001    40001         1         1     0        1      19   \n",
       "1         1   2012040002    40002         1         1     0        2      25   \n",
       "2         2   2012040003    40003         1         1     1        0      13   \n",
       "3         3   2012040004    40004         2         2     0        2      13   \n",
       "4         4   2012040005    40005         2         2     0        4      19   \n",
       "...     ...          ...      ...       ...       ...   ...      ...     ...   \n",
       "1855   1855   2016040872    40872         1         1     0        1      13   \n",
       "1856   1856   2016040875    40875         1         1     0        2      17   \n",
       "1857   1857   2016040876    40876         1         1     1        1      13   \n",
       "1858   1858   2016040877    40877         2         2     0        3      13   \n",
       "1859   1859   2016040880    40880         1         1     0        1      21   \n",
       "\n",
       "     county_name  CITY  ... A_POLPUR  a_polour_lit  A_POSBAC  \\\n",
       "0           PIMA     0  ...        2   Other Crash         1   \n",
       "1        YAVAPAI    90  ...        2   Other Crash         1   \n",
       "2       MARICOPA   370  ...        2   Other Crash         2   \n",
       "3       MARICOPA   190  ...        2   Other Crash         2   \n",
       "4           PIMA   530  ...        2   Other Crash         3   \n",
       "...          ...   ...  ...      ...           ...       ...   \n",
       "1855    MARICOPA     0  ...        2   Other Crash         2   \n",
       "1856      NAVAJO     0  ...        2   Other Crash         2   \n",
       "1857    MARICOPA   370  ...        2   Other Crash         3   \n",
       "1858    MARICOPA   200  ...        2   Other Crash         3   \n",
       "1859       PINAL     0  ...        2   Other Crash         1   \n",
       "\n",
       "                                 a_posbac_lit  A_DIST   a_dist_lit  A_DROWSY  \\\n",
       "0      Driver With Positive BAC Testing Crash       2  Other Crash         2   \n",
       "1      Driver With Positive BAC Testing Crash       2  Other Crash         2   \n",
       "2     All Drivers With ZERO BAC Testing Crash       2  Other Crash         2   \n",
       "3     All Drivers With ZERO BAC Testing Crash       2  Other Crash         2   \n",
       "4                           Unknown BAC Crash       2  Other Crash         2   \n",
       "...                                       ...     ...          ...       ...   \n",
       "1855  All Drivers With ZERO BAC Testing Crash       2  Other Crash         2   \n",
       "1856  All Drivers With ZERO BAC Testing Crash       2  Other Crash         2   \n",
       "1857                        Unknown BAC Crash       2  Other Crash         2   \n",
       "1858                        Unknown BAC Crash       2  Other Crash         2   \n",
       "1859   Driver With Positive BAC Testing Crash       2  Other Crash         2   \n",
       "\n",
       "      a_drowsy_lit INDIAN_RES    indian_res_lit  \n",
       "0      Other Crash          0  Not Tribal Lands  \n",
       "1      Other Crash          0  Not Tribal Lands  \n",
       "2      Other Crash          0  Not Tribal Lands  \n",
       "3      Other Crash          0  Not Tribal Lands  \n",
       "4      Other Crash          0  Not Tribal Lands  \n",
       "...            ...        ...               ...  \n",
       "1855   Other Crash          0  Not Tribal Lands  \n",
       "1856   Other Crash          1      Tribal Lands  \n",
       "1857   Other Crash          0  Not Tribal Lands  \n",
       "1858   Other Crash          0  Not Tribal Lands  \n",
       "1859   Other Crash          1      Tribal Lands  \n",
       "\n",
       "[1860 rows x 80 columns]"
      ]
     },
     "execution_count": 13,
     "metadata": {},
     "output_type": "execute_result"
    }
   ],
   "source": [
    "accident_df"
   ]
  },
  {
   "cell_type": "code",
   "execution_count": 14,
   "id": "e730b228-410a-4b1e-83e7-920f1d8c68fd",
   "metadata": {},
   "outputs": [
    {
     "data": {
      "text/plain": [
       "['index',\n",
       " 'accident_id',\n",
       " 'ST_CASE',\n",
       " 'VE_TOTAL',\n",
       " 'VE_FORMS',\n",
       " 'PEDS',\n",
       " 'PERSONS',\n",
       " 'COUNTY',\n",
       " 'county_name',\n",
       " 'CITY',\n",
       " 'city_name',\n",
       " 'DAY',\n",
       " 'MONTH',\n",
       " 'YEAR',\n",
       " 'HOUR',\n",
       " 'MINUTE',\n",
       " 'NHS',\n",
       " 'FUNC_SYS',\n",
       " 'func_sys_lit',\n",
       " 'ROAD_FNC',\n",
       " 'road_fnc_lit',\n",
       " 'RD_OWNER',\n",
       " 'rd_owner_lit',\n",
       " 'TWAY_ID',\n",
       " 'TWAY_ID2',\n",
       " 'LATITUDE',\n",
       " 'LONGITUD',\n",
       " 'SP_JUR',\n",
       " 'sp_jur_lit',\n",
       " 'HARM_EV',\n",
       " 'harm_ev_lit',\n",
       " 'MAN_COLL',\n",
       " 'man_coll_lit',\n",
       " 'RELJCT1',\n",
       " 'RELJCT2',\n",
       " 'TYP_INT',\n",
       " 'WRK_ZONE',\n",
       " 'REL_ROAD',\n",
       " 'LGT_COND',\n",
       " 'lgt_cond_lit',\n",
       " 'WEATHER',\n",
       " 'weather_lit',\n",
       " 'SCH_BUS',\n",
       " 'CF1',\n",
       " 'CF2',\n",
       " 'CF3',\n",
       " 'cf1_lit',\n",
       " 'cf2_lit',\n",
       " 'cf3_lit',\n",
       " 'FATALS',\n",
       " 'A_INTER',\n",
       " 'a_inter_lit',\n",
       " 'A_ROADFC',\n",
       " 'a_road_fc_lit',\n",
       " 'A_TOD',\n",
       " 'a_tod_lit',\n",
       " 'A_DOW',\n",
       " 'a_dow_lit',\n",
       " 'A_LT',\n",
       " 'a_lt_lit',\n",
       " 'A_SPCRA',\n",
       " 'a_spcra_lit',\n",
       " 'A_PED',\n",
       " 'a_ped_lit',\n",
       " 'A_PED_F',\n",
       " 'a_ped_f_lit',\n",
       " 'A_PEDAL',\n",
       " 'a_pedal_lit',\n",
       " 'A_PEDAL_F',\n",
       " 'a_pedal_f_lit',\n",
       " 'A_POLPUR',\n",
       " 'a_polour_lit',\n",
       " 'A_POSBAC',\n",
       " 'a_posbac_lit',\n",
       " 'A_DIST',\n",
       " 'a_dist_lit',\n",
       " 'A_DROWSY',\n",
       " 'a_drowsy_lit',\n",
       " 'INDIAN_RES',\n",
       " 'indian_res_lit']"
      ]
     },
     "execution_count": 14,
     "metadata": {},
     "output_type": "execute_result"
    }
   ],
   "source": [
    "list(accident_df)"
   ]
  },
  {
   "cell_type": "code",
   "execution_count": 15,
   "id": "addbfc6d-2985-4655-917d-8994132b38c7",
   "metadata": {},
   "outputs": [
    {
     "data": {
      "text/plain": [
       "accident_id\n",
       "2012040001    1\n",
       "2015040298    1\n",
       "2015040320    1\n",
       "2015040318    1\n",
       "2015040317    1\n",
       "             ..\n",
       "2013040450    1\n",
       "2013040449    1\n",
       "2013040446    1\n",
       "2013040445    1\n",
       "2016040880    1\n",
       "Name: count, Length: 1860, dtype: int64"
      ]
     },
     "execution_count": 15,
     "metadata": {},
     "output_type": "execute_result"
    }
   ],
   "source": [
    "accident_df[\"accident_id\"].value_counts()"
   ]
  },
  {
   "cell_type": "code",
   "execution_count": 16,
   "id": "bb11f84f-bd71-4499-b987-4c38fba8de27",
   "metadata": {
    "scrolled": true
   },
   "outputs": [
    {
     "data": {
      "text/html": [
       "<div>\n",
       "<style scoped>\n",
       "    .dataframe tbody tr th:only-of-type {\n",
       "        vertical-align: middle;\n",
       "    }\n",
       "\n",
       "    .dataframe tbody tr th {\n",
       "        vertical-align: top;\n",
       "    }\n",
       "\n",
       "    .dataframe thead th {\n",
       "        text-align: right;\n",
       "    }\n",
       "</style>\n",
       "<table border=\"1\" class=\"dataframe\">\n",
       "  <thead>\n",
       "    <tr style=\"text-align: right;\">\n",
       "      <th></th>\n",
       "      <th>accident_id</th>\n",
       "      <th>FATALS</th>\n",
       "      <th>a_spcra_lit</th>\n",
       "      <th>a_posbac_lit</th>\n",
       "      <th>a_drowsy_lit</th>\n",
       "      <th>a_dist_lit</th>\n",
       "      <th>PEDS</th>\n",
       "      <th>a_ped_f_lit</th>\n",
       "    </tr>\n",
       "  </thead>\n",
       "  <tbody>\n",
       "    <tr>\n",
       "      <th>0</th>\n",
       "      <td>2012040001</td>\n",
       "      <td>1</td>\n",
       "      <td>Speeding Involved Crash</td>\n",
       "      <td>Driver With Positive BAC Testing Crash</td>\n",
       "      <td>Other Crash</td>\n",
       "      <td>Other Crash</td>\n",
       "      <td>0</td>\n",
       "      <td>Other Crash</td>\n",
       "    </tr>\n",
       "    <tr>\n",
       "      <th>1</th>\n",
       "      <td>2012040002</td>\n",
       "      <td>1</td>\n",
       "      <td>Speeding Involved Crash</td>\n",
       "      <td>Driver With Positive BAC Testing Crash</td>\n",
       "      <td>Other Crash</td>\n",
       "      <td>Other Crash</td>\n",
       "      <td>0</td>\n",
       "      <td>Other Crash</td>\n",
       "    </tr>\n",
       "    <tr>\n",
       "      <th>2</th>\n",
       "      <td>2012040003</td>\n",
       "      <td>1</td>\n",
       "      <td>Other Crash</td>\n",
       "      <td>All Drivers With ZERO BAC Testing Crash</td>\n",
       "      <td>Other Crash</td>\n",
       "      <td>Other Crash</td>\n",
       "      <td>1</td>\n",
       "      <td>Involving a pedestrian fatality</td>\n",
       "    </tr>\n",
       "    <tr>\n",
       "      <th>3</th>\n",
       "      <td>2012040004</td>\n",
       "      <td>1</td>\n",
       "      <td>Other Crash</td>\n",
       "      <td>All Drivers With ZERO BAC Testing Crash</td>\n",
       "      <td>Other Crash</td>\n",
       "      <td>Other Crash</td>\n",
       "      <td>0</td>\n",
       "      <td>Other Crash</td>\n",
       "    </tr>\n",
       "    <tr>\n",
       "      <th>4</th>\n",
       "      <td>2012040005</td>\n",
       "      <td>1</td>\n",
       "      <td>Speeding Involved Crash</td>\n",
       "      <td>Unknown BAC Crash</td>\n",
       "      <td>Other Crash</td>\n",
       "      <td>Other Crash</td>\n",
       "      <td>0</td>\n",
       "      <td>Other Crash</td>\n",
       "    </tr>\n",
       "    <tr>\n",
       "      <th>...</th>\n",
       "      <td>...</td>\n",
       "      <td>...</td>\n",
       "      <td>...</td>\n",
       "      <td>...</td>\n",
       "      <td>...</td>\n",
       "      <td>...</td>\n",
       "      <td>...</td>\n",
       "      <td>...</td>\n",
       "    </tr>\n",
       "    <tr>\n",
       "      <th>1855</th>\n",
       "      <td>2016040872</td>\n",
       "      <td>1</td>\n",
       "      <td>Other Crash</td>\n",
       "      <td>All Drivers With ZERO BAC Testing Crash</td>\n",
       "      <td>Other Crash</td>\n",
       "      <td>Other Crash</td>\n",
       "      <td>0</td>\n",
       "      <td>Other Crash</td>\n",
       "    </tr>\n",
       "    <tr>\n",
       "      <th>1856</th>\n",
       "      <td>2016040875</td>\n",
       "      <td>2</td>\n",
       "      <td>Other Crash</td>\n",
       "      <td>All Drivers With ZERO BAC Testing Crash</td>\n",
       "      <td>Other Crash</td>\n",
       "      <td>Other Crash</td>\n",
       "      <td>0</td>\n",
       "      <td>Other Crash</td>\n",
       "    </tr>\n",
       "    <tr>\n",
       "      <th>1857</th>\n",
       "      <td>2016040876</td>\n",
       "      <td>1</td>\n",
       "      <td>Other Crash</td>\n",
       "      <td>Unknown BAC Crash</td>\n",
       "      <td>Other Crash</td>\n",
       "      <td>Other Crash</td>\n",
       "      <td>1</td>\n",
       "      <td>Involving a pedestrian fatality</td>\n",
       "    </tr>\n",
       "    <tr>\n",
       "      <th>1858</th>\n",
       "      <td>2016040877</td>\n",
       "      <td>1</td>\n",
       "      <td>Other Crash</td>\n",
       "      <td>Unknown BAC Crash</td>\n",
       "      <td>Other Crash</td>\n",
       "      <td>Other Crash</td>\n",
       "      <td>0</td>\n",
       "      <td>Other Crash</td>\n",
       "    </tr>\n",
       "    <tr>\n",
       "      <th>1859</th>\n",
       "      <td>2016040880</td>\n",
       "      <td>1</td>\n",
       "      <td>Other Crash</td>\n",
       "      <td>Driver With Positive BAC Testing Crash</td>\n",
       "      <td>Other Crash</td>\n",
       "      <td>Other Crash</td>\n",
       "      <td>0</td>\n",
       "      <td>Other Crash</td>\n",
       "    </tr>\n",
       "  </tbody>\n",
       "</table>\n",
       "<p>1860 rows × 8 columns</p>\n",
       "</div>"
      ],
      "text/plain": [
       "      accident_id  FATALS              a_spcra_lit  \\\n",
       "0      2012040001       1  Speeding Involved Crash   \n",
       "1      2012040002       1  Speeding Involved Crash   \n",
       "2      2012040003       1              Other Crash   \n",
       "3      2012040004       1              Other Crash   \n",
       "4      2012040005       1  Speeding Involved Crash   \n",
       "...           ...     ...                      ...   \n",
       "1855   2016040872       1              Other Crash   \n",
       "1856   2016040875       2              Other Crash   \n",
       "1857   2016040876       1              Other Crash   \n",
       "1858   2016040877       1              Other Crash   \n",
       "1859   2016040880       1              Other Crash   \n",
       "\n",
       "                                 a_posbac_lit a_drowsy_lit   a_dist_lit  PEDS  \\\n",
       "0      Driver With Positive BAC Testing Crash  Other Crash  Other Crash     0   \n",
       "1      Driver With Positive BAC Testing Crash  Other Crash  Other Crash     0   \n",
       "2     All Drivers With ZERO BAC Testing Crash  Other Crash  Other Crash     1   \n",
       "3     All Drivers With ZERO BAC Testing Crash  Other Crash  Other Crash     0   \n",
       "4                           Unknown BAC Crash  Other Crash  Other Crash     0   \n",
       "...                                       ...          ...          ...   ...   \n",
       "1855  All Drivers With ZERO BAC Testing Crash  Other Crash  Other Crash     0   \n",
       "1856  All Drivers With ZERO BAC Testing Crash  Other Crash  Other Crash     0   \n",
       "1857                        Unknown BAC Crash  Other Crash  Other Crash     1   \n",
       "1858                        Unknown BAC Crash  Other Crash  Other Crash     0   \n",
       "1859   Driver With Positive BAC Testing Crash  Other Crash  Other Crash     0   \n",
       "\n",
       "                          a_ped_f_lit  \n",
       "0                         Other Crash  \n",
       "1                         Other Crash  \n",
       "2     Involving a pedestrian fatality  \n",
       "3                         Other Crash  \n",
       "4                         Other Crash  \n",
       "...                               ...  \n",
       "1855                      Other Crash  \n",
       "1856                      Other Crash  \n",
       "1857  Involving a pedestrian fatality  \n",
       "1858                      Other Crash  \n",
       "1859                      Other Crash  \n",
       "\n",
       "[1860 rows x 8 columns]"
      ]
     },
     "execution_count": 16,
     "metadata": {},
     "output_type": "execute_result"
    }
   ],
   "source": [
    "#Create new accident dataframe by creating a list\n",
    "columns_to_select = ['accident_id','FATALS','a_spcra_lit','a_posbac_lit','a_drowsy_lit','a_dist_lit',\n",
    "                     'PEDS','a_ped_f_lit']\n",
    "plm_accident_df=accident_df[columns_to_select].copy()\n",
    "\n",
    "# print(plm_accident_df.head(20))\n",
    "plm_accident_df"
   ]
  },
  {
   "cell_type": "code",
   "execution_count": 17,
   "id": "eae1f877-9305-4a7c-be51-18f9f9df1ae6",
   "metadata": {},
   "outputs": [
    {
     "data": {
      "text/plain": [
       "1860"
      ]
     },
     "execution_count": 17,
     "metadata": {},
     "output_type": "execute_result"
    }
   ],
   "source": [
    "# Count number of accidents with fatalities\n",
    "accident_count=len(plm_accident_df['accident_id'].value_counts())\n",
    "accident_count"
   ]
  },
  {
   "cell_type": "code",
   "execution_count": 18,
   "id": "a8e7a7eb-5548-477f-a5c5-9fc86ab05cc6",
   "metadata": {},
   "outputs": [
    {
     "data": {
      "text/plain": [
       "2039"
      ]
     },
     "execution_count": 18,
     "metadata": {},
     "output_type": "execute_result"
    }
   ],
   "source": [
    "#Total the number of fatalaties\n",
    "fatalities=plm_accident_df['FATALS'].sum()\n",
    "fatalities"
   ]
  },
  {
   "cell_type": "code",
   "execution_count": 19,
   "id": "ce258f0b-ce95-4428-b560-ac6f20bfd48c",
   "metadata": {},
   "outputs": [
    {
     "data": {
      "text/plain": [
       "637"
      ]
     },
     "execution_count": 19,
     "metadata": {},
     "output_type": "execute_result"
    }
   ],
   "source": [
    "# Filter and count speeding involved crash fatalities\n",
    "speeding_df=plm_accident_df[plm_accident_df['a_spcra_lit'].str.contains('Speeding')]\n",
    "speeding_count=len(speeding_df)\n",
    "speeding_count"
   ]
  },
  {
   "cell_type": "code",
   "execution_count": 20,
   "id": "af98396c-5037-49eb-95a6-950905b43203",
   "metadata": {},
   "outputs": [
    {
     "data": {
      "text/plain": [
       "465"
      ]
     },
     "execution_count": 20,
     "metadata": {},
     "output_type": "execute_result"
    }
   ],
   "source": [
    "# Filter and count Positive BAC crash fatalities\n",
    "positive_bac_df=plm_accident_df[plm_accident_df['a_posbac_lit'].str.contains('Positive BAC')]\n",
    "positive_bac_count=len(positive_bac_df)\n",
    "positive_bac_count "
   ]
  },
  {
   "cell_type": "code",
   "execution_count": 21,
   "id": "5e82f4a0-9b42-4183-8a6b-a42fa045a99d",
   "metadata": {},
   "outputs": [
    {
     "data": {
      "text/plain": [
       "25"
      ]
     },
     "execution_count": 21,
     "metadata": {},
     "output_type": "execute_result"
    }
   ],
   "source": [
    "# Filter and count drowsy driver crash fatalities\n",
    "drowsy_driver_df=plm_accident_df[plm_accident_df['a_drowsy_lit'].str.contains('Drowsy')]\n",
    "drowsy_driver_count=len(drowsy_driver_df)\n",
    "drowsy_driver_count"
   ]
  },
  {
   "cell_type": "code",
   "execution_count": 22,
   "id": "13bc023c-44f5-413a-88fc-c87a4e3fe684",
   "metadata": {},
   "outputs": [
    {
     "data": {
      "text/plain": [
       "162"
      ]
     },
     "execution_count": 22,
     "metadata": {},
     "output_type": "execute_result"
    }
   ],
   "source": [
    "# Filter and count distracted driver crash fatalities\n",
    "distracted_driver_df=plm_accident_df[plm_accident_df['a_dist_lit'].str.contains('Distracted')]\n",
    "distracted_driver_count=len(distracted_driver_df)\n",
    "distracted_driver_count"
   ]
  },
  {
   "cell_type": "code",
   "execution_count": 23,
   "id": "3b0b6309-f059-4ed6-8410-d76742838c0d",
   "metadata": {},
   "outputs": [],
   "source": [
    "# %matplotlib inline\n",
    "# import matplotlib.pyplot as plt\n",
    "# import numpy as np"
   ]
  },
  {
   "cell_type": "code",
   "execution_count": 24,
   "id": "3742ea9b-ed9e-467d-80a0-d032a77125a3",
   "metadata": {
    "scrolled": true
   },
   "outputs": [
    {
     "data": {
      "image/png": "[encoded data removed]",
      "text/plain": [
       "<Figure size 800x400 with 1 Axes>"
      ]
     },
     "metadata": {},
     "output_type": "display_data"
    },
    {
     "data": {
      "text/plain": [
       "<Figure size 640x480 with 0 Axes>"
      ]
     },
     "metadata": {},
     "output_type": "display_data"
    }
   ],
   "source": [
    " \n",
    "# Create bar chart\n",
    "contributing_factors = [\"Total Fatalities\", \"Speeding\", \"Drinking\", \"Drowsy\", \"Distracted\"]\n",
    "counts_for_contributing_factors = [1289, 637, 465, 25, 162]\n",
    "x_axis = np.arange(len(counts_for_contributing_factors))\n",
    " \n",
    "# Calculate percentages\n",
    "total = counts_for_contributing_factors[0]\n",
    "percentages = [count / total * 100 for count in counts_for_contributing_factors[1:]]\n",
    " \n",
    "fig, ax = plt.subplots(figsize=(8, 4))\n",
    " \n",
    "bars = ax.bar(x_axis, counts_for_contributing_factors, color=\"b\", align=\"center\")\n",
    " \n",
    "# Add value labels on the bars\n",
    "for i, bar in enumerate(bars):\n",
    "    height = bar.get_height()\n",
    "    if i == 0:\n",
    "        ax.text(bar.get_x() + bar.get_width()/2., height,\n",
    "                f'{height:,}',\n",
    "                ha='center', va='bottom')\n",
    "    else:\n",
    "        ax.text(bar.get_x() + bar.get_width()/2., height,\n",
    "                f'{height:,}\\n({percentages[i-1]:.1f}%)',\n",
    "                ha='center', va='bottom')\n",
    " \n",
    "ax.set_xticks(x_axis)\n",
    "ax.set_xticklabels(contributing_factors, rotation=0, ha='center')\n",
    " \n",
    "ax.set_title(\"Total Fatalities & Driver Factors Contributing to Fatalities\")\n",
    "ax.set_ylabel(\"# of Fatalities\")\n",
    " \n",
    "\n",
    "plt.show()\n",
    " \n",
    "plt.savefig(\"Priscilla1.png\")"
   ]
  },
  {
   "cell_type": "code",
   "execution_count": 25,
   "id": "19064893-ea49-4a6c-9567-816e3a4b649c",
   "metadata": {},
   "outputs": [],
   "source": [
    "##Create a DataFrame for percentage of fatalities\n",
    "# counts_contributing_factors = [637,465,25,162]\n",
    "# perct_contributing_factors_df = pd.DataFrame({'counts_contributing_factors': counts_contributing_factors})\n",
    "\n",
    "# perct_contributing_factors_df['Percentage'] = perct_contributing_factors_df['counts_contributing_factors'] / 2039*100\n",
    "# print(perct_contributing_factors_df)\n",
    "# # perct_contributing_factors_df"
   ]
  },
  {
   "cell_type": "code",
   "execution_count": 26,
   "id": "7f5b10c7-041f-41bf-9d2c-5a17d7ea02c3",
   "metadata": {},
   "outputs": [
    {
     "data": {
      "text/plain": [
       "347"
      ]
     },
     "execution_count": 26,
     "metadata": {},
     "output_type": "execute_result"
    }
   ],
   "source": [
    "# Filter and count pedestrian fatalities\n",
    "\n",
    "ped_fatality_df=plm_accident_df[plm_accident_df['a_ped_f_lit'].str.contains('pedestrian fatality')]\n",
    "ped_fatality_count=len(ped_fatality_df)\n",
    "ped_fatality_count\n",
    "\n"
   ]
  },
  {
   "cell_type": "code",
   "execution_count": 27,
   "id": "596f351f-a627-4d03-b7e6-0ae86abfff24",
   "metadata": {},
   "outputs": [
    {
     "data": {
      "text/plain": [
       "16"
      ]
     },
     "execution_count": 27,
     "metadata": {},
     "output_type": "execute_result"
    }
   ],
   "source": [
    "# Filter and count driver speedingpedestrian fatalities\n",
    "speed_ped_fatality_df = plm_accident_df[(plm_accident_df['a_ped_f_lit'].str.contains('pedestrian fatality')) & \n",
    "(plm_accident_df['a_spcra_lit'].str.contains('Speeding'))]\n",
    "\n",
    "speed_ped_fatality_count=len(speed_ped_fatality_df)\n",
    "speed_ped_fatality_count"
   ]
  },
  {
   "cell_type": "code",
   "execution_count": 28,
   "id": "84964d36-0f1a-4910-9141-72a66e3619e7",
   "metadata": {},
   "outputs": [
    {
     "data": {
      "text/plain": [
       "25"
      ]
     },
     "execution_count": 28,
     "metadata": {},
     "output_type": "execute_result"
    }
   ],
   "source": [
    "# Filter and count driver drinking pedestrian fatalities\n",
    "drink_ped_fatality_df = plm_accident_df[(plm_accident_df['a_ped_f_lit'].str.contains('pedestrian fatality')) & \n",
    "(plm_accident_df['a_posbac_lit'].str.contains('Positive BAC'))]\n",
    "\n",
    "drink_ped_fatality_count=len(drink_ped_fatality_df)\n",
    "drink_ped_fatality_count"
   ]
  },
  {
   "cell_type": "code",
   "execution_count": 29,
   "id": "48ef07c1-5054-49fb-a725-7c4a8154dc65",
   "metadata": {},
   "outputs": [
    {
     "data": {
      "text/plain": [
       "1"
      ]
     },
     "execution_count": 29,
     "metadata": {},
     "output_type": "execute_result"
    }
   ],
   "source": [
    "# Filter and count driver drowsy pedestrian fatalities\n",
    "drowsy_ped_fatality_df = plm_accident_df[(plm_accident_df['a_ped_f_lit'].str.contains('pedestrian fatality')) & \n",
    "(plm_accident_df['a_drowsy_lit'].str.contains('Drowsy'))]\n",
    "\n",
    "drowsy_ped_fatality_count=len(drowsy_ped_fatality_df)\n",
    "drowsy_ped_fatality_count"
   ]
  },
  {
   "cell_type": "code",
   "execution_count": 30,
   "id": "4405eaa7-4ec3-43c6-a3a7-6163cdfad5f2",
   "metadata": {},
   "outputs": [
    {
     "data": {
      "text/plain": [
       "31"
      ]
     },
     "execution_count": 30,
     "metadata": {},
     "output_type": "execute_result"
    }
   ],
   "source": [
    "# Filter and count driver distracted pedestrian fatalities\n",
    "distracted_ped_fatality_df = plm_accident_df[(plm_accident_df['a_ped_f_lit'].str.contains('pedestrian fatality')) & \n",
    "(plm_accident_df['a_dist_lit'].str.contains('Distracted'))]\n",
    "\n",
    "distracted_ped_fatality_count=len(distracted_ped_fatality_df)\n",
    "distracted_ped_fatality_count"
   ]
  },
  {
   "cell_type": "code",
   "execution_count": 31,
   "id": "0f20bffc-0ed0-45d5-a892-584d15be62ec",
   "metadata": {
    "scrolled": true
   },
   "outputs": [
    {
     "data": {
      "image/png": "[encoded data removed]",
      "text/plain": [
       "<Figure size 600x400 with 1 Axes>"
      ]
     },
     "metadata": {},
     "output_type": "display_data"
    }
   ],
   "source": [
    "# Create bar chart for pedestrian fatalities\n",
    "\n",
    "ped_contributing_factors=[\"Pedestrian Fatalities\",\"Speeding\",\"Drinking\",\"Drowsy\",\"Distracted\"]\n",
    "ped_counts_for_contributing_factors=[73,16,25,1,31]\n",
    "x_axis = np.arange(len(ped_counts_for_contributing_factors))\n",
    "\n",
    "# Calculate percentages\n",
    "total = ped_counts_for_contributing_factors[0]\n",
    "percentages = [count / total * 100 for count in ped_counts_for_contributing_factors[1:]]\n",
    " \n",
    "fig, ax = plt.subplots(figsize=(6, 4))\n",
    " \n",
    "bars = ax.bar(x_axis, ped_counts_for_contributing_factors, color=\"c\", align=\"center\")\n",
    " \n",
    "# Add value labels on the bars\n",
    "for i, bar in enumerate(bars):\n",
    "    height = bar.get_height()\n",
    "    if i == 0:\n",
    "        ax.text(bar.get_x() + bar.get_width()/2., height,\n",
    "                f'{height:,}',\n",
    "                ha='center', va='bottom')\n",
    "    else:\n",
    "        ax.text(bar.get_x() + bar.get_width()/2., height,\n",
    "                f'{height:,}\\n({percentages[i-1]:.1f}%)',\n",
    "                ha='center', va='bottom')\n",
    "\n",
    "\n",
    "\n",
    "\n",
    "ax.set_xticks(x_axis)\n",
    "ax.set_xticklabels(contributing_factors, rotation=0, ha='center')\n",
    " \n",
    "# ax.set_title(\"Pedestrian Fatalities & Driver Factors Contributing to Fatalities\")\n",
    "ax.set_ylabel(\"# of Pedestrian Fatalities\")\n",
    "\n",
    "\n",
    "plt.show()\n",
    "\n",
    "# plt.savefig(\"Priscilla2.png\")"
   ]
  },
  {
   "cell_type": "code",
   "execution_count": null,
   "id": "a2cf0b2e-647e-403b-a513-43d242ee10f7",
   "metadata": {},
   "outputs": [],
   "source": []
  }
 ],
 "metadata": {
  "kernelspec": {
   "display_name": "Python 3 (ipykernel)",
   "language": "python",
   "name": "python3"
  },
  "language_info": {
   "codemirror_mode": {
    "name": "ipython",
    "version": 3
   },
   "file_extension": ".py",
   "mimetype": "text/x-python",
   "name": "python",
   "nbconvert_exporter": "python",
   "pygments_lexer": "ipython3",
   "version": "3.11.7"
  }
 },
 "nbformat": 4,
 "nbformat_minor": 5
}
