{
 "cells": [
  {
   "cell_type": "code",
   "execution_count": 1,
   "id": "97594a86-331e-4923-a016-5de1a0393d05",
   "metadata": {},
   "outputs": [],
   "source": [
    "import pandas as pd\n",
    "\n",
    "accident_csv = \"./accident.csv\"\n",
    "person_csv = \"./person.csv\"\n",
    "vehicle_csv = \"./vehicle.csv\"\n",
    "\n",
    "accident_df = pd.read_csv(accident_csv)\n",
    "person_df = pd.read_csv(person_csv)\n",
    "vehicle_df = pd.read_csv(vehicle_csv)"
   ]
  },
  {
   "cell_type": "code",
   "execution_count": 4,
   "id": "38e53ea9-9ff0-4020-9503-b769f5ab1e9e",
   "metadata": {},
   "outputs": [
    {
     "data": {
      "text/plain": [
       "weather_lit\n",
       "Clear                1305\n",
       "Unknown               221\n",
       "Cloudy                167\n",
       "Not Reported          120\n",
       "Rain                   40\n",
       "Snow                    3\n",
       "Blowing Snow            1\n",
       "Sleet or Hail           1\n",
       "Severe Crosswinds       1\n",
       "Other                   1\n",
       "Name: count, dtype: int64"
      ]
     },
     "execution_count": 4,
     "metadata": {},
     "output_type": "execute_result"
    }
   ],
   "source": [
    "accident_df[\"weather_lit\"].value_counts()"
   ]
  },
  {
   "cell_type": "code",
   "execution_count": 8,
   "id": "ac2fbc22-41f0-4a83-ae77-5935f75e9fb1",
   "metadata": {},
   "outputs": [
    {
     "data": {
      "text/plain": [
       "lgt_cond_lit\n",
       "Daylight                   815\n",
       "Dark - Not Lighted         336\n",
       "Dark - Lighted             335\n",
       "Unknown                    130\n",
       "Dark - Unknown Lighting    128\n",
       "Dusk                        64\n",
       "Dawn                        46\n",
       "Not Reported                 6\n",
       "Name: count, dtype: int64"
      ]
     },
     "execution_count": 8,
     "metadata": {},
     "output_type": "execute_result"
    }
   ],
   "source": [
    "accident_df[\"lgt_cond_lit\"].value_counts()"
   ]
  },
  {
   "cell_type": "code",
   "execution_count": 10,
   "id": "4367b9bf-aa69-4b31-9ae0-e2c025b81877",
   "metadata": {},
   "outputs": [
    {
     "data": {
      "text/plain": [
       "a_tod_lit\n",
       "Nighttime    889\n",
       "Daytime      872\n",
       "Unknown       99\n",
       "Name: count, dtype: int64"
      ]
     },
     "execution_count": 10,
     "metadata": {},
     "output_type": "execute_result"
    }
   ],
   "source": [
    "accident_df[\"a_tod_lit\"].value_counts()"
   ]
  },
  {
   "cell_type": "code",
   "execution_count": 12,
   "id": "8b379ecc-6a72-4780-828d-3dcd48e293a4",
   "metadata": {},
   "outputs": [
    {
     "data": {
      "text/plain": [
       "a_spcra_lit\n",
       "Other Crash                1223\n",
       "Speeding Involved Crash     637\n",
       "Name: count, dtype: int64"
      ]
     },
     "execution_count": 12,
     "metadata": {},
     "output_type": "execute_result"
    }
   ],
   "source": [
    "accident_df[\"a_spcra_lit\"].value_counts()"
   ]
  },
  {
   "cell_type": "code",
   "execution_count": 16,
   "id": "96658cb3-7fdc-4512-9245-2edb009d3f4b",
   "metadata": {},
   "outputs": [
    {
     "data": {
      "text/plain": [
       "a_ped_lit\n",
       "Other Crash                  1510\n",
       "Pedestrian Involved Crash     350\n",
       "Name: count, dtype: int64"
      ]
     },
     "execution_count": 16,
     "metadata": {},
     "output_type": "execute_result"
    }
   ],
   "source": [
    "accident_df[\"a_ped_lit\"].value_counts()"
   ]
  },
  {
   "cell_type": "code",
   "execution_count": 18,
   "id": "28e3d9d1-0b84-434b-84cc-65a5fc25ae6c",
   "metadata": {},
   "outputs": [
    {
     "data": {
      "text/plain": [
       "a_posbac_lit\n",
       "Unknown BAC Crash                          878\n",
       "All Drivers With ZERO BAC Testing Crash    517\n",
       "Driver With Positive BAC Testing Crash     465\n",
       "Name: count, dtype: int64"
      ]
     },
     "execution_count": 18,
     "metadata": {},
     "output_type": "execute_result"
    }
   ],
   "source": [
    "accident_df[\"a_posbac_lit\"].value_counts()"
   ]
  },
  {
   "cell_type": "code",
   "execution_count": 20,
   "id": "ac263e02-0a3d-4f85-b589-316a7ea3bcee",
   "metadata": {},
   "outputs": [
    {
     "data": {
      "text/plain": [
       "a_dist_lit\n",
       "Other Crash                      1698\n",
       "Involving a Distracted Driver     162\n",
       "Name: count, dtype: int64"
      ]
     },
     "execution_count": 20,
     "metadata": {},
     "output_type": "execute_result"
    }
   ],
   "source": [
    "accident_df[\"a_dist_lit\"].value_counts()"
   ]
  },
  {
   "cell_type": "code",
   "execution_count": 24,
   "id": "04acf19f-14dc-4ee5-a9db-e9cf300f0977",
   "metadata": {},
   "outputs": [
    {
     "data": {
      "text/plain": [
       "HOUR\n",
       "18    140\n",
       "20    136\n",
       "17    113\n",
       "19    108\n",
       "16    103\n",
       "99     99\n",
       "15     91\n",
       "21     80\n",
       "11     79\n",
       "22     73\n",
       "13     73\n",
       "6      70\n",
       "23     69\n",
       "12     63\n",
       "14     63\n",
       "7      63\n",
       "5      62\n",
       "0      54\n",
       "9      52\n",
       "10     51\n",
       "2      51\n",
       "8      51\n",
       "1      48\n",
       "3      38\n",
       "4      30\n",
       "Name: count, dtype: int64"
      ]
     },
     "execution_count": 24,
     "metadata": {},
     "output_type": "execute_result"
    }
   ],
   "source": [
    "accident_df[\"HOUR\"].value_counts()"
   ]
  },
  {
   "cell_type": "code",
   "execution_count": 30,
   "id": "49e6625f-89e1-4068-821e-47c47f14b715",
   "metadata": {},
   "outputs": [
    {
     "data": {
      "text/plain": [
       "TWAY_ID\n",
       "US-191                        48\n",
       "UNKNOWN RD                    36\n",
       "SR-87                         33\n",
       "MCDOWELL RD                   33\n",
       "SR-264                        29\n",
       "                              ..\n",
       "CAMINO DE OESTE                1\n",
       "OUTER LOOP RD                  1\n",
       "COUNTY 15TH ST                 1\n",
       "LENZER AVE                     1\n",
       "INDIAN ROUTE 121- ASPEN RD     1\n",
       "Name: count, Length: 881, dtype: int64"
      ]
     },
     "execution_count": 30,
     "metadata": {},
     "output_type": "execute_result"
    }
   ],
   "source": [
    "accident_df[\"TWAY_ID\"].value_counts()"
   ]
  },
  {
   "cell_type": "code",
   "execution_count": 32,
   "id": "cb7b57f7-b04e-4a6e-b696-480fcb376060",
   "metadata": {},
   "outputs": [
    {
     "data": {
      "text/plain": [
       "a_dow_lit\n",
       "Weekday    1001\n",
       "Weekend     833\n",
       "Unknown      26\n",
       "Name: count, dtype: int64"
      ]
     },
     "execution_count": 32,
     "metadata": {},
     "output_type": "execute_result"
    }
   ],
   "source": [
    "accident_df[\"a_dow_lit\"].value_counts()"
   ]
  },
  {
   "cell_type": "code",
   "execution_count": 34,
   "id": "b15ff82d-69ec-4f3a-9cec-3c622aaaca93",
   "metadata": {},
   "outputs": [
    {
     "data": {
      "text/plain": [
       "a_spcra_lit\n",
       "Other Crash                1223\n",
       "Speeding Involved Crash     637\n",
       "Name: count, dtype: int64"
      ]
     },
     "execution_count": 34,
     "metadata": {},
     "output_type": "execute_result"
    }
   ],
   "source": [
    "accident_df[\"a_spcra_lit\"].value_counts()"
   ]
  },
  {
   "cell_type": "code",
   "execution_count": null,
   "id": "5cbac4ea-0b92-4148-b515-1768e2b21bde",
   "metadata": {},
   "outputs": [],
   "source": []
  }
 ],
 "metadata": {
  "kernelspec": {
   "display_name": "Python 3 (ipykernel)",
   "language": "python",
   "name": "python3"
  },
  "language_info": {
   "codemirror_mode": {
    "name": "ipython",
    "version": 3
   },
   "file_extension": ".py",
   "mimetype": "text/x-python",
   "name": "python",
   "nbconvert_exporter": "python",
   "pygments_lexer": "ipython3",
   "version": "3.11.7"
  }
 },
 "nbformat": 4,
 "nbformat_minor": 5
}
