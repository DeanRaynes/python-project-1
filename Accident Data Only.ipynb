{
 "cells": [
  {
   "cell_type": "code",
   "execution_count": 2,
   "id": "97594a86-331e-4923-a016-5de1a0393d05",
   "metadata": {},
   "outputs": [
    {
     "name": "stderr",
     "output_type": "stream",
     "text": [
      "C:\\Users\\bigdi\\AppData\\Local\\Temp\\ipykernel_17760\\2972132344.py:8: DtypeWarning: Columns (72,73,74,75,82,83,85,89,90,94) have mixed types. Specify dtype option on import or set low_memory=False.\n",
      "  person_df = pd.read_csv(person_csv)\n",
      "C:\\Users\\bigdi\\AppData\\Local\\Temp\\ipykernel_17760\\2972132344.py:9: DtypeWarning: Columns (102,103,104,107,108,109,110,117,118,120,125,126,129) have mixed types. Specify dtype option on import or set low_memory=False.\n",
      "  vehicle_df = pd.read_csv(vehicle_csv)\n"
     ]
    }
   ],
   "source": [
    "import pandas as pd\n",
    "\n",
    "accident_csv = \"./accident.csv\"\n",
    "person_csv = \"./person.csv\"\n",
    "vehicle_csv = \"./vehicle.csv\"\n",
    "\n",
    "accident_df = pd.read_csv(accident_csv)\n",
    "person_df = pd.read_csv(person_csv)\n",
    "vehicle_df = pd.read_csv(vehicle_csv)"
   ]
  },
  {
   "cell_type": "code",
   "execution_count": 3,
   "id": "38e53ea9-9ff0-4020-9503-b769f5ab1e9e",
   "metadata": {},
   "outputs": [
    {
     "data": {
      "text/plain": [
       "weather_lit\n",
       "Clear                1305\n",
       "Unknown               221\n",
       "Cloudy                167\n",
       "Not Reported          120\n",
       "Rain                   40\n",
       "Snow                    3\n",
       "Blowing Snow            1\n",
       "Sleet or Hail           1\n",
       "Severe Crosswinds       1\n",
       "Other                   1\n",
       "Name: count, dtype: int64"
      ]
     },
     "execution_count": 3,
     "metadata": {},
     "output_type": "execute_result"
    }
   ],
   "source": [
    "accident_df[\"weather_lit\"].value_counts()"
   ]
  },
  {
   "cell_type": "code",
   "execution_count": 8,
   "id": "ac2fbc22-41f0-4a83-ae77-5935f75e9fb1",
   "metadata": {},
   "outputs": [
    {
     "data": {
      "text/plain": [
       "lgt_cond_lit\n",
       "Daylight                   815\n",
       "Dark - Not Lighted         336\n",
       "Dark - Lighted             335\n",
       "Unknown                    130\n",
       "Dark - Unknown Lighting    128\n",
       "Dusk                        64\n",
       "Dawn                        46\n",
       "Not Reported                 6\n",
       "Name: count, dtype: int64"
      ]
     },
     "execution_count": 8,
     "metadata": {},
     "output_type": "execute_result"
    }
   ],
   "source": [
    "accident_df[\"lgt_cond_lit\"].value_counts()"
   ]
  },
  {
   "cell_type": "code",
   "execution_count": 10,
   "id": "4367b9bf-aa69-4b31-9ae0-e2c025b81877",
   "metadata": {},
   "outputs": [
    {
     "data": {
      "text/plain": [
       "a_tod_lit\n",
       "Nighttime    889\n",
       "Daytime      872\n",
       "Unknown       99\n",
       "Name: count, dtype: int64"
      ]
     },
     "execution_count": 10,
     "metadata": {},
     "output_type": "execute_result"
    }
   ],
   "source": [
    "accident_df[\"a_tod_lit\"].value_counts()"
   ]
  },
  {
   "cell_type": "code",
   "execution_count": 12,
   "id": "8b379ecc-6a72-4780-828d-3dcd48e293a4",
   "metadata": {},
   "outputs": [
    {
     "data": {
      "text/plain": [
       "a_spcra_lit\n",
       "Other Crash                1223\n",
       "Speeding Involved Crash     637\n",
       "Name: count, dtype: int64"
      ]
     },
     "execution_count": 12,
     "metadata": {},
     "output_type": "execute_result"
    }
   ],
   "source": [
    "accident_df[\"a_spcra_lit\"].value_counts()"
   ]
  },
  {
   "cell_type": "code",
   "execution_count": 16,
   "id": "96658cb3-7fdc-4512-9245-2edb009d3f4b",
   "metadata": {},
   "outputs": [
    {
     "data": {
      "text/plain": [
       "a_ped_lit\n",
       "Other Crash                  1510\n",
       "Pedestrian Involved Crash     350\n",
       "Name: count, dtype: int64"
      ]
     },
     "execution_count": 16,
     "metadata": {},
     "output_type": "execute_result"
    }
   ],
   "source": [
    "accident_df[\"a_ped_lit\"].value_counts()"
   ]
  },
  {
   "cell_type": "code",
   "execution_count": 18,
   "id": "28e3d9d1-0b84-434b-84cc-65a5fc25ae6c",
   "metadata": {},
   "outputs": [
    {
     "data": {
      "text/plain": [
       "a_posbac_lit\n",
       "Unknown BAC Crash                          878\n",
       "All Drivers With ZERO BAC Testing Crash    517\n",
       "Driver With Positive BAC Testing Crash     465\n",
       "Name: count, dtype: int64"
      ]
     },
     "execution_count": 18,
     "metadata": {},
     "output_type": "execute_result"
    }
   ],
   "source": [
    "accident_df[\"a_posbac_lit\"].value_counts()"
   ]
  },
  {
   "cell_type": "code",
   "execution_count": 20,
   "id": "ac263e02-0a3d-4f85-b589-316a7ea3bcee",
   "metadata": {},
   "outputs": [
    {
     "data": {
      "text/plain": [
       "a_dist_lit\n",
       "Other Crash                      1698\n",
       "Involving a Distracted Driver     162\n",
       "Name: count, dtype: int64"
      ]
     },
     "execution_count": 20,
     "metadata": {},
     "output_type": "execute_result"
    }
   ],
   "source": [
    "accident_df[\"a_dist_lit\"].value_counts()"
   ]
  },
  {
   "cell_type": "code",
   "execution_count": 24,
   "id": "04acf19f-14dc-4ee5-a9db-e9cf300f0977",
   "metadata": {},
   "outputs": [
    {
     "data": {
      "text/plain": [
       "HOUR\n",
       "18    140\n",
       "20    136\n",
       "17    113\n",
       "19    108\n",
       "16    103\n",
       "99     99\n",
       "15     91\n",
       "21     80\n",
       "11     79\n",
       "22     73\n",
       "13     73\n",
       "6      70\n",
       "23     69\n",
       "12     63\n",
       "14     63\n",
       "7      63\n",
       "5      62\n",
       "0      54\n",
       "9      52\n",
       "10     51\n",
       "2      51\n",
       "8      51\n",
       "1      48\n",
       "3      38\n",
       "4      30\n",
       "Name: count, dtype: int64"
      ]
     },
     "execution_count": 24,
     "metadata": {},
     "output_type": "execute_result"
    }
   ],
   "source": [
    "accident_df[\"HOUR\"].value_counts()"
   ]
  },
  {
   "cell_type": "code",
   "execution_count": 30,
   "id": "49e6625f-89e1-4068-821e-47c47f14b715",
   "metadata": {},
   "outputs": [
    {
     "data": {
      "text/plain": [
       "TWAY_ID\n",
       "US-191                        48\n",
       "UNKNOWN RD                    36\n",
       "SR-87                         33\n",
       "MCDOWELL RD                   33\n",
       "SR-264                        29\n",
       "                              ..\n",
       "CAMINO DE OESTE                1\n",
       "OUTER LOOP RD                  1\n",
       "COUNTY 15TH ST                 1\n",
       "LENZER AVE                     1\n",
       "INDIAN ROUTE 121- ASPEN RD     1\n",
       "Name: count, Length: 881, dtype: int64"
      ]
     },
     "execution_count": 30,
     "metadata": {},
     "output_type": "execute_result"
    }
   ],
   "source": [
    "accident_df[\"TWAY_ID\"].value_counts()"
   ]
  },
  {
   "cell_type": "code",
   "execution_count": 32,
   "id": "cb7b57f7-b04e-4a6e-b696-480fcb376060",
   "metadata": {},
   "outputs": [
    {
     "data": {
      "text/plain": [
       "a_dow_lit\n",
       "Weekday    1001\n",
       "Weekend     833\n",
       "Unknown      26\n",
       "Name: count, dtype: int64"
      ]
     },
     "execution_count": 32,
     "metadata": {},
     "output_type": "execute_result"
    }
   ],
   "source": [
    "accident_df[\"a_dow_lit\"].value_counts()"
   ]
  },
  {
   "cell_type": "code",
   "execution_count": 34,
   "id": "b15ff82d-69ec-4f3a-9cec-3c622aaaca93",
   "metadata": {},
   "outputs": [
    {
     "data": {
      "text/plain": [
       "a_spcra_lit\n",
       "Other Crash                1223\n",
       "Speeding Involved Crash     637\n",
       "Name: count, dtype: int64"
      ]
     },
     "execution_count": 34,
     "metadata": {},
     "output_type": "execute_result"
    }
   ],
   "source": [
    "accident_df[\"a_spcra_lit\"].value_counts()"
   ]
  },
  {
   "cell_type": "code",
   "execution_count": 4,
   "id": "5cbac4ea-0b92-4148-b515-1768e2b21bde",
   "metadata": {},
   "outputs": [
    {
     "data": {
      "text/html": [
       "<div>\n",
       "<style scoped>\n",
       "    .dataframe tbody tr th:only-of-type {\n",
       "        vertical-align: middle;\n",
       "    }\n",
       "\n",
       "    .dataframe tbody tr th {\n",
       "        vertical-align: top;\n",
       "    }\n",
       "\n",
       "    .dataframe thead th {\n",
       "        text-align: right;\n",
       "    }\n",
       "</style>\n",
       "<table border=\"1\" class=\"dataframe\">\n",
       "  <thead>\n",
       "    <tr style=\"text-align: right;\">\n",
       "      <th></th>\n",
       "      <th>index</th>\n",
       "      <th>accident_id</th>\n",
       "      <th>ST_CASE</th>\n",
       "      <th>VE_TOTAL</th>\n",
       "      <th>VE_FORMS</th>\n",
       "      <th>PEDS</th>\n",
       "      <th>PERSONS</th>\n",
       "      <th>COUNTY</th>\n",
       "      <th>county_name</th>\n",
       "      <th>CITY</th>\n",
       "      <th>...</th>\n",
       "      <th>A_POLPUR</th>\n",
       "      <th>a_polour_lit</th>\n",
       "      <th>A_POSBAC</th>\n",
       "      <th>a_posbac_lit</th>\n",
       "      <th>A_DIST</th>\n",
       "      <th>a_dist_lit</th>\n",
       "      <th>A_DROWSY</th>\n",
       "      <th>a_drowsy_lit</th>\n",
       "      <th>INDIAN_RES</th>\n",
       "      <th>indian_res_lit</th>\n",
       "    </tr>\n",
       "  </thead>\n",
       "  <tbody>\n",
       "    <tr>\n",
       "      <th>0</th>\n",
       "      <td>0</td>\n",
       "      <td>2012040001</td>\n",
       "      <td>40001</td>\n",
       "      <td>1</td>\n",
       "      <td>1</td>\n",
       "      <td>0</td>\n",
       "      <td>1</td>\n",
       "      <td>19</td>\n",
       "      <td>PIMA</td>\n",
       "      <td>0</td>\n",
       "      <td>...</td>\n",
       "      <td>2</td>\n",
       "      <td>Other Crash</td>\n",
       "      <td>1</td>\n",
       "      <td>Driver With Positive BAC Testing Crash</td>\n",
       "      <td>2</td>\n",
       "      <td>Other Crash</td>\n",
       "      <td>2</td>\n",
       "      <td>Other Crash</td>\n",
       "      <td>0</td>\n",
       "      <td>Not Tribal Lands</td>\n",
       "    </tr>\n",
       "    <tr>\n",
       "      <th>1</th>\n",
       "      <td>1</td>\n",
       "      <td>2012040002</td>\n",
       "      <td>40002</td>\n",
       "      <td>1</td>\n",
       "      <td>1</td>\n",
       "      <td>0</td>\n",
       "      <td>2</td>\n",
       "      <td>25</td>\n",
       "      <td>YAVAPAI</td>\n",
       "      <td>90</td>\n",
       "      <td>...</td>\n",
       "      <td>2</td>\n",
       "      <td>Other Crash</td>\n",
       "      <td>1</td>\n",
       "      <td>Driver With Positive BAC Testing Crash</td>\n",
       "      <td>2</td>\n",
       "      <td>Other Crash</td>\n",
       "      <td>2</td>\n",
       "      <td>Other Crash</td>\n",
       "      <td>0</td>\n",
       "      <td>Not Tribal Lands</td>\n",
       "    </tr>\n",
       "    <tr>\n",
       "      <th>2</th>\n",
       "      <td>2</td>\n",
       "      <td>2012040003</td>\n",
       "      <td>40003</td>\n",
       "      <td>1</td>\n",
       "      <td>1</td>\n",
       "      <td>1</td>\n",
       "      <td>0</td>\n",
       "      <td>13</td>\n",
       "      <td>MARICOPA</td>\n",
       "      <td>370</td>\n",
       "      <td>...</td>\n",
       "      <td>2</td>\n",
       "      <td>Other Crash</td>\n",
       "      <td>2</td>\n",
       "      <td>All Drivers With ZERO BAC Testing Crash</td>\n",
       "      <td>2</td>\n",
       "      <td>Other Crash</td>\n",
       "      <td>2</td>\n",
       "      <td>Other Crash</td>\n",
       "      <td>0</td>\n",
       "      <td>Not Tribal Lands</td>\n",
       "    </tr>\n",
       "    <tr>\n",
       "      <th>3</th>\n",
       "      <td>3</td>\n",
       "      <td>2012040004</td>\n",
       "      <td>40004</td>\n",
       "      <td>2</td>\n",
       "      <td>2</td>\n",
       "      <td>0</td>\n",
       "      <td>2</td>\n",
       "      <td>13</td>\n",
       "      <td>MARICOPA</td>\n",
       "      <td>190</td>\n",
       "      <td>...</td>\n",
       "      <td>2</td>\n",
       "      <td>Other Crash</td>\n",
       "      <td>2</td>\n",
       "      <td>All Drivers With ZERO BAC Testing Crash</td>\n",
       "      <td>2</td>\n",
       "      <td>Other Crash</td>\n",
       "      <td>2</td>\n",
       "      <td>Other Crash</td>\n",
       "      <td>0</td>\n",
       "      <td>Not Tribal Lands</td>\n",
       "    </tr>\n",
       "    <tr>\n",
       "      <th>4</th>\n",
       "      <td>4</td>\n",
       "      <td>2012040005</td>\n",
       "      <td>40005</td>\n",
       "      <td>2</td>\n",
       "      <td>2</td>\n",
       "      <td>0</td>\n",
       "      <td>4</td>\n",
       "      <td>19</td>\n",
       "      <td>PIMA</td>\n",
       "      <td>530</td>\n",
       "      <td>...</td>\n",
       "      <td>2</td>\n",
       "      <td>Other Crash</td>\n",
       "      <td>3</td>\n",
       "      <td>Unknown BAC Crash</td>\n",
       "      <td>2</td>\n",
       "      <td>Other Crash</td>\n",
       "      <td>2</td>\n",
       "      <td>Other Crash</td>\n",
       "      <td>0</td>\n",
       "      <td>Not Tribal Lands</td>\n",
       "    </tr>\n",
       "    <tr>\n",
       "      <th>...</th>\n",
       "      <td>...</td>\n",
       "      <td>...</td>\n",
       "      <td>...</td>\n",
       "      <td>...</td>\n",
       "      <td>...</td>\n",
       "      <td>...</td>\n",
       "      <td>...</td>\n",
       "      <td>...</td>\n",
       "      <td>...</td>\n",
       "      <td>...</td>\n",
       "      <td>...</td>\n",
       "      <td>...</td>\n",
       "      <td>...</td>\n",
       "      <td>...</td>\n",
       "      <td>...</td>\n",
       "      <td>...</td>\n",
       "      <td>...</td>\n",
       "      <td>...</td>\n",
       "      <td>...</td>\n",
       "      <td>...</td>\n",
       "      <td>...</td>\n",
       "    </tr>\n",
       "    <tr>\n",
       "      <th>1855</th>\n",
       "      <td>1855</td>\n",
       "      <td>2016040872</td>\n",
       "      <td>40872</td>\n",
       "      <td>1</td>\n",
       "      <td>1</td>\n",
       "      <td>0</td>\n",
       "      <td>1</td>\n",
       "      <td>13</td>\n",
       "      <td>MARICOPA</td>\n",
       "      <td>0</td>\n",
       "      <td>...</td>\n",
       "      <td>2</td>\n",
       "      <td>Other Crash</td>\n",
       "      <td>2</td>\n",
       "      <td>All Drivers With ZERO BAC Testing Crash</td>\n",
       "      <td>2</td>\n",
       "      <td>Other Crash</td>\n",
       "      <td>2</td>\n",
       "      <td>Other Crash</td>\n",
       "      <td>0</td>\n",
       "      <td>Not Tribal Lands</td>\n",
       "    </tr>\n",
       "    <tr>\n",
       "      <th>1856</th>\n",
       "      <td>1856</td>\n",
       "      <td>2016040875</td>\n",
       "      <td>40875</td>\n",
       "      <td>1</td>\n",
       "      <td>1</td>\n",
       "      <td>0</td>\n",
       "      <td>2</td>\n",
       "      <td>17</td>\n",
       "      <td>NAVAJO</td>\n",
       "      <td>0</td>\n",
       "      <td>...</td>\n",
       "      <td>2</td>\n",
       "      <td>Other Crash</td>\n",
       "      <td>2</td>\n",
       "      <td>All Drivers With ZERO BAC Testing Crash</td>\n",
       "      <td>2</td>\n",
       "      <td>Other Crash</td>\n",
       "      <td>2</td>\n",
       "      <td>Other Crash</td>\n",
       "      <td>1</td>\n",
       "      <td>Tribal Lands</td>\n",
       "    </tr>\n",
       "    <tr>\n",
       "      <th>1857</th>\n",
       "      <td>1857</td>\n",
       "      <td>2016040876</td>\n",
       "      <td>40876</td>\n",
       "      <td>1</td>\n",
       "      <td>1</td>\n",
       "      <td>1</td>\n",
       "      <td>1</td>\n",
       "      <td>13</td>\n",
       "      <td>MARICOPA</td>\n",
       "      <td>370</td>\n",
       "      <td>...</td>\n",
       "      <td>2</td>\n",
       "      <td>Other Crash</td>\n",
       "      <td>3</td>\n",
       "      <td>Unknown BAC Crash</td>\n",
       "      <td>2</td>\n",
       "      <td>Other Crash</td>\n",
       "      <td>2</td>\n",
       "      <td>Other Crash</td>\n",
       "      <td>0</td>\n",
       "      <td>Not Tribal Lands</td>\n",
       "    </tr>\n",
       "    <tr>\n",
       "      <th>1858</th>\n",
       "      <td>1858</td>\n",
       "      <td>2016040877</td>\n",
       "      <td>40877</td>\n",
       "      <td>2</td>\n",
       "      <td>2</td>\n",
       "      <td>0</td>\n",
       "      <td>3</td>\n",
       "      <td>13</td>\n",
       "      <td>MARICOPA</td>\n",
       "      <td>200</td>\n",
       "      <td>...</td>\n",
       "      <td>2</td>\n",
       "      <td>Other Crash</td>\n",
       "      <td>3</td>\n",
       "      <td>Unknown BAC Crash</td>\n",
       "      <td>2</td>\n",
       "      <td>Other Crash</td>\n",
       "      <td>2</td>\n",
       "      <td>Other Crash</td>\n",
       "      <td>0</td>\n",
       "      <td>Not Tribal Lands</td>\n",
       "    </tr>\n",
       "    <tr>\n",
       "      <th>1859</th>\n",
       "      <td>1859</td>\n",
       "      <td>2016040880</td>\n",
       "      <td>40880</td>\n",
       "      <td>1</td>\n",
       "      <td>1</td>\n",
       "      <td>0</td>\n",
       "      <td>1</td>\n",
       "      <td>21</td>\n",
       "      <td>PINAL</td>\n",
       "      <td>0</td>\n",
       "      <td>...</td>\n",
       "      <td>2</td>\n",
       "      <td>Other Crash</td>\n",
       "      <td>1</td>\n",
       "      <td>Driver With Positive BAC Testing Crash</td>\n",
       "      <td>2</td>\n",
       "      <td>Other Crash</td>\n",
       "      <td>2</td>\n",
       "      <td>Other Crash</td>\n",
       "      <td>1</td>\n",
       "      <td>Tribal Lands</td>\n",
       "    </tr>\n",
       "  </tbody>\n",
       "</table>\n",
       "<p>1860 rows × 80 columns</p>\n",
       "</div>"
      ],
      "text/plain": [
       "      index  accident_id  ST_CASE  VE_TOTAL  VE_FORMS  PEDS  PERSONS  COUNTY  \\\n",
       "0         0   2012040001    40001         1         1     0        1      19   \n",
       "1         1   2012040002    40002         1         1     0        2      25   \n",
       "2         2   2012040003    40003         1         1     1        0      13   \n",
       "3         3   2012040004    40004         2         2     0        2      13   \n",
       "4         4   2012040005    40005         2         2     0        4      19   \n",
       "...     ...          ...      ...       ...       ...   ...      ...     ...   \n",
       "1855   1855   2016040872    40872         1         1     0        1      13   \n",
       "1856   1856   2016040875    40875         1         1     0        2      17   \n",
       "1857   1857   2016040876    40876         1         1     1        1      13   \n",
       "1858   1858   2016040877    40877         2         2     0        3      13   \n",
       "1859   1859   2016040880    40880         1         1     0        1      21   \n",
       "\n",
       "     county_name  CITY  ... A_POLPUR  a_polour_lit  A_POSBAC  \\\n",
       "0           PIMA     0  ...        2   Other Crash         1   \n",
       "1        YAVAPAI    90  ...        2   Other Crash         1   \n",
       "2       MARICOPA   370  ...        2   Other Crash         2   \n",
       "3       MARICOPA   190  ...        2   Other Crash         2   \n",
       "4           PIMA   530  ...        2   Other Crash         3   \n",
       "...          ...   ...  ...      ...           ...       ...   \n",
       "1855    MARICOPA     0  ...        2   Other Crash         2   \n",
       "1856      NAVAJO     0  ...        2   Other Crash         2   \n",
       "1857    MARICOPA   370  ...        2   Other Crash         3   \n",
       "1858    MARICOPA   200  ...        2   Other Crash         3   \n",
       "1859       PINAL     0  ...        2   Other Crash         1   \n",
       "\n",
       "                                 a_posbac_lit  A_DIST   a_dist_lit  A_DROWSY  \\\n",
       "0      Driver With Positive BAC Testing Crash       2  Other Crash         2   \n",
       "1      Driver With Positive BAC Testing Crash       2  Other Crash         2   \n",
       "2     All Drivers With ZERO BAC Testing Crash       2  Other Crash         2   \n",
       "3     All Drivers With ZERO BAC Testing Crash       2  Other Crash         2   \n",
       "4                           Unknown BAC Crash       2  Other Crash         2   \n",
       "...                                       ...     ...          ...       ...   \n",
       "1855  All Drivers With ZERO BAC Testing Crash       2  Other Crash         2   \n",
       "1856  All Drivers With ZERO BAC Testing Crash       2  Other Crash         2   \n",
       "1857                        Unknown BAC Crash       2  Other Crash         2   \n",
       "1858                        Unknown BAC Crash       2  Other Crash         2   \n",
       "1859   Driver With Positive BAC Testing Crash       2  Other Crash         2   \n",
       "\n",
       "      a_drowsy_lit INDIAN_RES    indian_res_lit  \n",
       "0      Other Crash          0  Not Tribal Lands  \n",
       "1      Other Crash          0  Not Tribal Lands  \n",
       "2      Other Crash          0  Not Tribal Lands  \n",
       "3      Other Crash          0  Not Tribal Lands  \n",
       "4      Other Crash          0  Not Tribal Lands  \n",
       "...            ...        ...               ...  \n",
       "1855   Other Crash          0  Not Tribal Lands  \n",
       "1856   Other Crash          1      Tribal Lands  \n",
       "1857   Other Crash          0  Not Tribal Lands  \n",
       "1858   Other Crash          0  Not Tribal Lands  \n",
       "1859   Other Crash          1      Tribal Lands  \n",
       "\n",
       "[1860 rows x 80 columns]"
      ]
     },
     "execution_count": 4,
     "metadata": {},
     "output_type": "execute_result"
    }
   ],
   "source": [
    "accident_df"
   ]
  },
  {
   "cell_type": "code",
   "execution_count": null,
   "id": "b52f1381-45df-4b7d-817b-9480d31d61f5",
   "metadata": {},
   "outputs": [],
   "source": []
  }
 ],
 "metadata": {
  "kernelspec": {
   "display_name": "Python 3 (ipykernel)",
   "language": "python",
   "name": "python3"
  },
  "language_info": {
   "codemirror_mode": {
    "name": "ipython",
    "version": 3
   },
   "file_extension": ".py",
   "mimetype": "text/x-python",
   "name": "python",
   "nbconvert_exporter": "python",
   "pygments_lexer": "ipython3",
   "version": "3.12.4"
  }
 },
 "nbformat": 4,
 "nbformat_minor": 5
}
