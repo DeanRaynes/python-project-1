{
 "cells": [
  {
   "cell_type": "code",
   "execution_count": 3,
   "id": "9261395c-923e-4e97-bba9-08a70cd28dd6",
   "metadata": {},
   "outputs": [
    {
     "name": "stderr",
     "output_type": "stream",
     "text": [
      "/var/folders/g1/_j2d8jxs3c7_lb7t6vlb5r0c0000gn/T/ipykernel_60846/1644172131.py:8: DtypeWarning: Columns (4) have mixed types. Specify dtype option on import or set low_memory=False.\n",
      "  vehicle_vin_df = pd.read_csv(vehicle_vin_csv)\n",
      "/var/folders/g1/_j2d8jxs3c7_lb7t6vlb5r0c0000gn/T/ipykernel_60846/1644172131.py:9: DtypeWarning: Columns (102,103,104,107,108,109,110,117,118,120,125,126,129) have mixed types. Specify dtype option on import or set low_memory=False.\n",
      "  vehicle_df = pd.read_csv(vehicle_csv)\n"
     ]
    }
   ],
   "source": [
    "import pandas as pd\n",
    "\n",
    "accident_csv = \"./accident.csv\"\n",
    "vehicle_csv = \"./vehicle.csv\"\n",
    "vehicle_vin_csv = \"./Vin Combined Data.csv\"\n",
    "\n",
    "accident_df = pd.read_csv(accident_csv)\n",
    "vehicle_vin_df = pd.read_csv(vehicle_vin_csv)\n",
    "vehicle_df = pd.read_csv(vehicle_csv)\n",
    "\n",
    "\n",
    "vehicle_combined_df = pd.merge(vehicle_df, vehicle_vin_df, on=[\"VIN\"])\n",
    "vehicle_combined_df.to_csv(\"./vehicle_data_combined.csv\")\n",
    "    "
   ]
  },
  {
   "cell_type": "code",
   "execution_count": null,
   "id": "c863944c-e7a8-4f56-9b88-c7720513358a",
   "metadata": {},
   "outputs": [],
   "source": []
  }
 ],
 "metadata": {
  "kernelspec": {
   "display_name": "Python 3 (ipykernel)",
   "language": "python",
   "name": "python3"
  },
  "language_info": {
   "codemirror_mode": {
    "name": "ipython",
    "version": 3
   },
   "file_extension": ".py",
   "mimetype": "text/x-python",
   "name": "python",
   "nbconvert_exporter": "python",
   "pygments_lexer": "ipython3",
   "version": "3.12.4"
  }
 },
 "nbformat": 4,
 "nbformat_minor": 5
}
