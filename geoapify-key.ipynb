{
 "cells": [
  {
   "cell_type": "code",
   "execution_count": null,
   "id": "c9dfccd1-8b86-49b9-8f15-567fd07ddd5d",
   "metadata": {},
   "outputs": [],
   "source": [
    "geoapify_key = \"b9ab500b0daa4c55a17cdfe23fba2e1c\""
   ]
  }
 ],
 "metadata": {
  "kernelspec": {
   "display_name": "Python 3 (ipykernel)",
   "language": "python",
   "name": "python3"
  },
  "language_info": {
   "codemirror_mode": {
    "name": "ipython",
    "version": 3
   },
   "file_extension": ".py",
   "mimetype": "text/x-python",
   "name": "python",
   "nbconvert_exporter": "python",
   "pygments_lexer": "ipython3",
   "version": "3.12.4"
  }
 },
 "nbformat": 4,
 "nbformat_minor": 5
}
